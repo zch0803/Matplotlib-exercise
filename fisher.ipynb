{
 "cells": [
  {
   "cell_type": "code",
   "execution_count": 1,
   "metadata": {},
   "outputs": [],
   "source": [
    "import scipy.stats as stats"
   ]
  },
  {
   "cell_type": "code",
   "execution_count": 2,
   "metadata": {},
   "outputs": [
    {
     "name": "stdout",
     "output_type": "stream",
     "text": [
      "0.29711475907813933\n",
      "0.0018025456438690592\n",
      "5.501892875067727e-08\n",
      "0.00024104814350541204\n",
      "2.615970314139368e-06\n",
      "0.12751663316609524\n",
      "0.298576758426621\n"
     ]
    }
   ],
   "source": [
    "input_str = '''zygote\t467\t240\t3927\t2184\n",
    "early\t591\t356\t3085\t2246\n",
    "2cell\t757\t856\t3343\t2991\n",
    "4cell\t842\t1072\t2591\t3802\n",
    "8cell\t676\t697\t3133\t2588\n",
    "ICM\t1089\t1101\t2940\t3133\n",
    "mESC\t567\t249\t4193\t1708'''\n",
    "input_str = input_str.split('\\n')\n",
    "for input_s in input_str:\n",
    "    input_s = input_s.split('\\t')\n",
    "    #print(input_s)\n",
    "    cell = input_s[0]\n",
    "    data1 = int(input_s[1])\n",
    "    data2 = int(input_s[2])\n",
    "    data3 = int(input_s[3]) - int(input_s[1])\n",
    "    data4 = int(input_s[4]) - int(input_s[2])\n",
    "    test = [[data1, data2],[data3, data4]]\n",
    "    oddsratio, pvalue = stats.fisher_exact(test)\n",
    "    print(pvalue)"
   ]
  },
  {
   "cell_type": "code",
   "execution_count": null,
   "metadata": {},
   "outputs": [],
   "source": []
  }
 ],
 "metadata": {
  "kernelspec": {
   "display_name": "Python 2",
   "language": "python",
   "name": "python2"
  },
  "language_info": {
   "codemirror_mode": {
    "name": "ipython",
    "version": 2
   },
   "file_extension": ".py",
   "mimetype": "text/x-python",
   "name": "python",
   "nbconvert_exporter": "python",
   "pygments_lexer": "ipython2",
   "version": "2.7.14"
  }
 },
 "nbformat": 4,
 "nbformat_minor": 2
}

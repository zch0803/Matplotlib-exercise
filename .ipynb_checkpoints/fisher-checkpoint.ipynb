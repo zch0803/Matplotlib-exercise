{
 "cells": [
  {
   "cell_type": "code",
   "execution_count": 1,
   "metadata": {},
   "outputs": [],
   "source": [
    "import scipy.stats as stats"
   ]
  },
  {
   "cell_type": "code",
   "execution_count": 7,
   "metadata": {},
   "outputs": [
    {
     "name": "stdout",
     "output_type": "stream",
     "text": [
      "MII 0.15755466069263385\n",
      "zygote 0.04625714024780931\n",
      "early 0.25020884288821643\n",
      "2cell 0.06090275720471246\n",
      "4cell 0.2717827414748313\n",
      "8cell 4.695529135919133e-16\n",
      "ICM 0.0006468339372652312\n"
     ]
    }
   ],
   "source": [
    "input_str = '''MII\t92\t58\t2368\t1183\n",
    "zygote\t181\t88\t1523\t951\n",
    "early\t424\t347\t2377\t2101\n",
    "2cell\t341\t573\t1318\t2481\n",
    "4cell\t414\t435\t1481\t1457\n",
    "8cell\t566\t395\t1875\t2071\n",
    "ICM\t982\t290\t2772\t985'''\n",
    "input_str = input_str.split('\\n')\n",
    "for input_s in input_str:\n",
    "    input_s = input_s.split('\\t')\n",
    "    #print(input_s)\n",
    "    cell = input_s[0]\n",
    "    data1 = int(input_s[1])\n",
    "    data2 = int(input_s[2])\n",
    "    data3 = int(input_s[3]) - int(input_s[1])\n",
    "    data4 = int(input_s[4]) - int(input_s[2])\n",
    "    test = [[data1, data2],[data3, data4]]\n",
    "    oddsratio, pvalue = stats.fisher_exact(test)\n",
    "    print(pvalue)"
   ]
  },
  {
   "cell_type": "code",
   "execution_count": null,
   "metadata": {},
   "outputs": [],
   "source": []
  }
 ],
 "metadata": {
  "kernelspec": {
   "display_name": "Python 3",
   "language": "python",
   "name": "python3"
  },
  "language_info": {
   "codemirror_mode": {
    "name": "ipython",
    "version": 3
   },
   "file_extension": ".py",
   "mimetype": "text/x-python",
   "name": "python",
   "nbconvert_exporter": "python",
   "pygments_lexer": "ipython3",
   "version": "3.6.5"
  }
 },
 "nbformat": 4,
 "nbformat_minor": 2
}

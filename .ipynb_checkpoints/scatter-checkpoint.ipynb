{
 "cells": [
  {
   "cell_type": "code",
   "execution_count": 1,
   "metadata": {},
   "outputs": [],
   "source": [
    "import pandas as pd\n",
    "import numpy as np\n",
    "import matplotlib.pyplot as plt\n",
    "import scipy.stats as stats\n",
    "import seaborn as sns"
   ]
  },
  {
   "cell_type": "code",
   "execution_count": null,
   "metadata": {},
   "outputs": [],
   "source": [
    "input = pd.read_csv('FPKMandRNAratio.csv', sep=',')\n",
    "data = input.drop('Celllines', axis=1)\n",
    "data2 = pd.DataFrame(data.values, index=input['Celllines'].values, columns=data.columns.values)\n",
    "\n",
    "\n",
    "colorBar1 = [[0,0.2,0.8],[0.0,0.4,0.8],[0.0,0.6,0.8],[0.2,0.8,0.8],[0.425,0.85,0.6375],[0.6375,0.85,0.425],[0.85,0.85,0.22125],[0.95,0.75,0.0]]\n",
    "\n"
   ]
  },
  {
   "cell_type": "code",
   "execution_count": null,
   "metadata": {},
   "outputs": [],
   "source": []
  }
 ],
 "metadata": {
  "kernelspec": {
   "display_name": "Python 3",
   "language": "python",
   "name": "python3"
  },
  "language_info": {
   "codemirror_mode": {
    "name": "ipython",
    "version": 3
   },
   "file_extension": ".py",
   "mimetype": "text/x-python",
   "name": "python",
   "nbconvert_exporter": "python",
   "pygments_lexer": "ipython3",
   "version": "3.6.5"
  }
 },
 "nbformat": 4,
 "nbformat_minor": 2
}
